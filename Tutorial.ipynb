{
 "cells": [
  {
   "cell_type": "code",
   "execution_count": 24,
   "metadata": {},
   "outputs": [
    {
     "name": "stdout",
     "output_type": "stream",
     "text": [
      "c:\\n\\n\\n\n"
     ]
    }
   ],
   "source": [
    "print(r'c:\\n\\n\\n')# print raw string no interpretetion"
   ]
  },
  {
   "cell_type": "code",
   "execution_count": 25,
   "metadata": {},
   "outputs": [
    {
     "data": {
      "text/plain": [
       "10"
      ]
     },
     "execution_count": 25,
     "metadata": {},
     "output_type": "execute_result"
    }
   ],
   "source": [
    "10"
   ]
  },
  {
   "cell_type": "code",
   "execution_count": 26,
   "metadata": {},
   "outputs": [
    {
     "data": {
      "text/plain": [
       "15"
      ]
     },
     "execution_count": 26,
     "metadata": {},
     "output_type": "execute_result"
    }
   ],
   "source": [
    "_ + 5  #(_ is for output of previous operation)\n",
    "    "
   ]
  },
  {
   "cell_type": "code",
   "execution_count": 27,
   "metadata": {},
   "outputs": [
    {
     "name": "stdout",
     "output_type": "stream",
     "text": [
      "ello\n"
     ]
    }
   ],
   "source": [
    "a= \"hello\"\n",
    "print(a[1:10]) # if we are giving last subscript greater.. no issues.. willwork"
   ]
  },
  {
   "cell_type": "code",
   "execution_count": 28,
   "metadata": {},
   "outputs": [
    {
     "name": "stdout",
     "output_type": "stream",
     "text": [
      "[1, 5, 7, 8, 4, 6]\n",
      "[1, 8, 4, 6]\n"
     ]
    }
   ],
   "source": [
    "l = [1,5,7,8,4,6]\n",
    "print(l)\n",
    "del l[1:3]\n",
    "print(l)"
   ]
  },
  {
   "cell_type": "code",
   "execution_count": 29,
   "metadata": {},
   "outputs": [],
   "source": [
    "# Set uses the hash concept for storing values"
   ]
  },
  {
   "cell_type": "code",
   "execution_count": 33,
   "metadata": {},
   "outputs": [
    {
     "name": "stdout",
     "output_type": "stream",
     "text": [
      "{1: 'a', 2: 'b', 3: 'c'}\n",
      "a\n",
      "None\n",
      "Not Found\n",
      "a\n",
      "{1: 'a', 2: ['a', 'b', 'c'], 3: {1: 'a', 2: 'b'}}\n",
      "['b', 'c']\n",
      "b\n"
     ]
    }
   ],
   "source": [
    "# Dictionary\n",
    "key = [1,2,3]\n",
    "values = ['a','b','c']\n",
    "dic = dict(zip(key,values))\n",
    "print(dic)\n",
    "print(dic.get(1))\n",
    "print(dic.get(4)) # if key not present no error, if you use, dic[4].... error.. this is dic with key =4\n",
    "print(dic.get(4,'Not Found'))\n",
    "print(dic.get(1,'Not Found'))\n",
    "\n",
    "dic = {1:'a',2:['a','b','c'],3:{1:'a',2:'b'}}\n",
    "print(dic)\n",
    "print(dic[2][1:3])\n",
    "print(dic[3][2])"
   ]
  },
  {
   "cell_type": "code",
   "execution_count": 34,
   "metadata": {},
   "outputs": [],
   "source": [
    "# setting path\n",
    "#1. use command prompt 'setpath' ..but that is for that cmd session only\n",
    "#2. Go to env variables add new and give the path where python is installed\n"
   ]
  },
  {
   "cell_type": "code",
   "execution_count": 35,
   "metadata": {},
   "outputs": [
    {
     "name": "stdout",
     "output_type": "stream",
     "text": [
      "140726310057072\n",
      "140726310057072\n",
      "140726310057072\n",
      "140726310057072\n"
     ]
    }
   ],
   "source": [
    "a = 10\n",
    "print(id(a))\n",
    "b = a\n",
    "print(id(b))\n",
    "c = 10\n",
    "print(id(c))\n",
    "print(id(10))\n",
    "# all same\n",
    "# Garbage collector... when a variable is derefrenced then the address is ready for garbage collector"
   ]
  },
  {
   "cell_type": "code",
   "execution_count": 36,
   "metadata": {},
   "outputs": [
    {
     "data": {
      "text/plain": [
       "'\\n1. None.. variable with assigned value\\n2. Numeric\\n a. int\\n b. flaot\\n c. complex ...a= 6+7j\\n d. bool\\n3. Sequence types\\n  a.list\\n  b. set\\n  c. tuple\\n  d. range ... print(list(range(10)))... print 0-9.. to get the values.. use list function\\n  e. string\\n4. Dictoinary\\n\\n'"
      ]
     },
     "execution_count": 36,
     "metadata": {},
     "output_type": "execute_result"
    }
   ],
   "source": [
    "# data types\n",
    "'''\n",
    "1. None.. variable with assigned value\n",
    "2. Numeric\n",
    " a. int\n",
    " b. flaot\n",
    " c. complex ...a= 6+7j\n",
    " d. bool\n",
    "3. Sequence types\n",
    "  a.list\n",
    "  b. set\n",
    "  c. tuple\n",
    "  d. range ... print(list(range(10)))... print 0-9.. to get the values.. use list function\n",
    "  e. string\n",
    "4. Dictoinary\n",
    "\n",
    "'''"
   ]
  },
  {
   "cell_type": "code",
   "execution_count": 38,
   "metadata": {},
   "outputs": [
    {
     "name": "stdout",
     "output_type": "stream",
     "text": [
      "0b10100\n",
      "0o24\n",
      "0x14\n",
      "20\n"
     ]
    }
   ],
   "source": [
    "# Number system conversion\n",
    "n  = 20\n",
    "print(bin(20))\n",
    "print(oct(20))\n",
    "print(hex(20))\n",
    "n= 0o24\n",
    "print(n)"
   ]
  },
  {
   "cell_type": "code",
   "execution_count": 39,
   "metadata": {},
   "outputs": [
    {
     "data": {
      "text/plain": [
       "\"\\n# bit wise operators\\n1. ^ xor\\n2. ~ 2's complement\\n3. & AND\\n4. | OR\\n\""
      ]
     },
     "execution_count": 39,
     "metadata": {},
     "output_type": "execute_result"
    }
   ],
   "source": [
    "'''\n",
    "# bit wise operators\n",
    "1. ^ xor\n",
    "2. ~ 2's complement\n",
    "3. & AND\n",
    "4. | OR\n",
    "'''\n"
   ]
  },
  {
   "cell_type": "code",
   "execution_count": 40,
   "metadata": {},
   "outputs": [
    {
     "data": {
      "text/plain": [
       "'\\nRun file \\n1. Using IDLE...\\n    a.) File... New File... Save and run\\n    b.) Use notepad...save in .py\\n2. Using cmd\\n    a.) Go to the library.... use python filename\\n3. IDE ... Debugging option is there as well\\n\\n'"
      ]
     },
     "execution_count": 40,
     "metadata": {},
     "output_type": "execute_result"
    }
   ],
   "source": [
    "'''\n",
    "Run file \n",
    "1. Using IDLE...\n",
    "    a.) File... New File... Save and run\n",
    "    b.) Use notepad...save in .py\n",
    "2. Using cmd\n",
    "    a.) Go to the library.... use python filename\n",
    "3. IDE ... Debugging option is there as well\n",
    "\n",
    "\n",
    "'''"
   ]
  },
  {
   "cell_type": "code",
   "execution_count": 42,
   "metadata": {},
   "outputs": [
    {
     "name": "stdout",
     "output_type": "stream",
     "text": [
      "C:\\Users\\Garg\\Anaconda3\\lib\\site-packages\\ipykernel_launcher.py\n"
     ]
    }
   ],
   "source": [
    "'''\n",
    "#input from user\n",
    "1. Input()\n",
    "2. eval(input()).... evaluate a expression ... 2+6-1\n",
    "3. argv....0 is file name... 1 onwards are arguments...all in string format\n",
    "''' \n",
    "import sys\n",
    "print(sys.argv[0])"
   ]
  },
  {
   "cell_type": "code",
   "execution_count": 43,
   "metadata": {},
   "outputs": [],
   "source": [
    "# indentation ..by default 4 spaces.. 1 tab"
   ]
  },
  {
   "cell_type": "code",
   "execution_count": 44,
   "metadata": {},
   "outputs": [
    {
     "name": "stdin",
     "output_type": "stream",
     "text": [
      "Enter a number 4\n"
     ]
    }
   ],
   "source": [
    "# usage of pass... used for no instructions\n",
    "def a():\n",
    "    pass\n",
    "class x:\n",
    "    pass\n",
    "x = int(input(\"Enter a number\"))\n",
    "if x %2==0:\n",
    "    pass\n",
    "else:\n",
    "    print(\"Odd Number\")\n"
   ]
  },
  {
   "cell_type": "code",
   "execution_count": 46,
   "metadata": {},
   "outputs": [
    {
     "name": "stdout",
     "output_type": "stream",
     "text": [
      "No condition were executed in for loop\n"
     ]
    }
   ],
   "source": [
    "# for else in python\n",
    "\n",
    "l1 = [1,2,3,4]\n",
    "for i in l1:\n",
    "    if i % 5==0:\n",
    "        print(\"Hello\")\n",
    "        break            # manadtory for \"For else\"\n",
    "else:\n",
    "    print(\"No condition were executed in for loop\")"
   ]
  },
  {
   "cell_type": "code",
   "execution_count": 10,
   "metadata": {},
   "outputs": [
    {
     "name": "stdout",
     "output_type": "stream",
     "text": [
      "i\n",
      "(1015694673696, 5) Buffer info\n",
      "5 Length\n",
      "array('i', [5, 4, 3, 2, 1]) array reversed\n",
      "5\n",
      "4\n",
      "3\n",
      "2\n",
      "1\n",
      "array('i', [5, 4, 3, 2, 1])\n",
      "array('i', [5, 4, 3, 2, 1, 7]) Value appended 7\n",
      "5 Index of 7\n"
     ]
    }
   ],
   "source": [
    "# Array in python\n",
    "from array import *\n",
    "arr = array('i',[1,2,3,4,5])\n",
    "print(arr.typecode)\n",
    "'''\n",
    "Different types of Typecode\n",
    "b -- int signed\n",
    "B -- int unsigned\n",
    "u -- unicode \n",
    "f -- float 4\n",
    "d -- double 8\n",
    "'''\n",
    "print(arr.buffer_info(),\"Buffer info\")  # address and size\n",
    "print(len(arr),\"Length\")\n",
    "arr.reverse()\n",
    "print(arr,\"array reversed\")\n",
    "for i in arr:\n",
    "    print(i)\n",
    "arr1 = array(arr.typecode,[a for a in arr])\n",
    "print(arr1)\n",
    "arr1.append(7)\n",
    "print(arr1,\"Value appended 7\")\n",
    "print(arr1.index(7),\"Index of 7\")"
   ]
  },
  {
   "cell_type": "code",
   "execution_count": 4,
   "metadata": {},
   "outputs": [
    {
     "name": "stdout",
     "output_type": "stream",
     "text": [
      "a1 [1 2 3 4 5]\n",
      "a2 [ 1  3  5  7  9 11 13]\n",
      "a3 [0. 0. 0. 0. 0.]\n",
      "a4 [1. 1. 1. 1. 1.]\n",
      "a5 [ 1.   4.9  8.8 12.7 16.6 20.5 24.4 28.3 32.2 36.1 40. ]\n",
      "a6 [1.00000000e+01 5.62341325e+10 3.16227766e+20 1.77827941e+30\n",
      " 1.00000000e+40]\n",
      "10.00\n",
      "Properties\n",
      "a1.size 5\n",
      "a1.dtype int32\n",
      "a1.ndim 1\n",
      "a1.shape (5,)\n",
      "Copy array,info is commented out\n",
      "[[ 1  2  3  4  5  6]\n",
      " [ 7  8  9 10 11 12]\n",
      " [13 14 15 16 17 18]\n",
      " [19 20 21 22 23 24]] Reshaped into 2D\n",
      "[[[ 1  2]\n",
      "  [ 3  4]\n",
      "  [ 5  6]\n",
      "  [ 7  8]]\n",
      "\n",
      " [[ 9 10]\n",
      "  [11 12]\n",
      "  [13 14]\n",
      "  [15 16]]\n",
      "\n",
      " [[17 18]\n",
      "  [19 20]\n",
      "  [21 22]\n",
      "  [23 24]]] Reshaped into 3d\n",
      "[ 1  2  3  4  5  6  7  8  9 10 11 12 13 14 15 16 17 18 19 20 21 22 23 24] converted to 1D\n",
      "[[[ 1  2]\n",
      "  [ 3  4]\n",
      "  [ 5  6]\n",
      "  [ 7  8]]\n",
      "\n",
      " [[ 9 10]\n",
      "  [11 12]\n",
      "  [13 14]\n",
      "  [15 16]]\n",
      "\n",
      " [[17 18]\n",
      "  [19 20]\n",
      "  [21 22]\n",
      "  [23 24]]]\n",
      "[[ 1  2  3  4  5  6  7  8  9 10 11 12 13 14 15 16 17 18 19 20 21 22 23 24]] Printing matrix\n",
      "[[ 2  4 10]\n",
      " [ 6  8 16]\n",
      " [10 12 18]] Adding of matrix\n",
      "[[ 32  40  66]\n",
      " [ 55  70 119]\n",
      " [ 68  88 154]] Multiplication\n",
      "[1 4 9] diagonal of matrix\n",
      "9 Max of m1\n",
      "[[ 0.54030231 -0.41614684  0.28366219]\n",
      " [-0.9899925  -0.65364362 -0.14550003]\n",
      " [ 0.28366219  0.96017029 -0.91113026]]\n"
     ]
    }
   ],
   "source": [
    "# Multidim array\n",
    "'''\n",
    "use numpy\n",
    "pip ---pip install package\n",
    "'''\n",
    "from numpy import *\n",
    "# creating arrays\n",
    "a1 = array([1,2,3,4,5])\n",
    "a2 = arange(1,15,2) # stepwise like range functiokn\n",
    "a3 = zeros(5) # returns float\n",
    "a4 = ones(5) # returns float\n",
    "a5 = linspace(1,40,11) # break 1n 11 parts from 1-40...by default part is 50\n",
    "a6 = logspace(1,40,5) # break in 5 parts..10 raise to 1 to 10 raise to 40\n",
    "print(f\"a1 {a1}\")\n",
    "print(f\"a2 {a2}\")\n",
    "print(f\"a3 {a3}\")\n",
    "print(f\"a4 {a4}\")\n",
    "print(f\"a5 {a5}\")\n",
    "print(f\"a6 {a6}\")\n",
    "print('%.2f' %a6[0])\n",
    "\n",
    "# properties\n",
    "print(\"Properties\")\n",
    "print(f\"a1.size {a1.size}\")\n",
    "print(f\"a1.dtype {a1.dtype}\")\n",
    "print(f\"a1.ndim {a1.ndim}\")\n",
    "print(f\"a1.shape {a1.shape}\")\n",
    "\n",
    "#Copy array\n",
    "print(\"Copy array,info is commented out\")\n",
    "'''\n",
    "1. just referencing  a1 = a2 ... same address\n",
    "2. shallow copy  a2 = a1.view() ...different address but if one changed both changed\n",
    "3. deep copy .... a2 = a1.copy() ... different address.. one changes another doesn't change\n",
    "'''\n",
    "\n",
    "#Matrix\n",
    "a7 = arange(1,25,1)\n",
    "print(a7.reshape(4,6),\"Reshaped into 2D\")\n",
    "print(a7.reshape(3,4,2),\"Reshaped into 3d\")\n",
    "print(a7.flatten(),\"converted to 1D\")\n",
    "print(a7.reshape(3,4,2))\n",
    "m = matrix(a7)\n",
    "print(m, \"Printing matrix\")\n",
    "m1  = matrix('1 2 5;3 4 8;5 6 9') # cols seprated by semicolon and cols by space\n",
    "m2  = matrix('1 2 5;3 4 8;5 6 9')\n",
    "print(m1+m2,\"Adding of matrix\")\n",
    "print(m1*m2,\"Multiplication\")\n",
    "print(diagonal(m1),\"diagonal of matrix\")\n",
    "print(m1.max(),\"Max of m1\")\n",
    "print(cos(m1))"
   ]
  },
  {
   "cell_type": "code",
   "execution_count": 55,
   "metadata": {},
   "outputs": [
    {
     "data": {
      "text/plain": [
       "'\\nThis(3 quotes) is always used for documentation, dont use it for comments \\n'"
      ]
     },
     "execution_count": 55,
     "metadata": {},
     "output_type": "execute_result"
    }
   ],
   "source": [
    "'''\n",
    "This(3 quotes) is always used for documentation, dont use it for comments \n",
    "'''"
   ]
  },
  {
   "cell_type": "code",
   "execution_count": 56,
   "metadata": {},
   "outputs": [
    {
     "data": {
      "text/plain": [
       "'\\ncompiled language is a one where compiler converts your code to machine language\\n1. python ---> code-->compiler-->bytecode--->PYM(Python virtual machine) ---> machine code\\n2. PYM --> required for code portability\\n\\npython types\\n1. cpython ....python implemented in c\\n1. jpython ....python implemented in java\\n1. ironpython ....python implemented in .dot net\\n'"
      ]
     },
     "execution_count": 56,
     "metadata": {},
     "output_type": "execute_result"
    }
   ],
   "source": [
    "'''\n",
    "compiled language is a one where compiler converts your code to machine language\n",
    "1. python ---> code-->compiler-->bytecode--->PYM(Python virtual machine) ---> machine code\n",
    "2. PYM --> required for code portability\n",
    "\n",
    "python types\n",
    "1. cpython ....python implemented in c\n",
    "1. jpython ....python implemented in java\n",
    "1. ironpython ....python implemented in .dot net\n",
    "'''"
   ]
  },
  {
   "cell_type": "code",
   "execution_count": 63,
   "metadata": {},
   "outputs": [
    {
     "name": "stdout",
     "output_type": "stream",
     "text": [
      "1 a\n",
      "2 b\n",
      "3 c\n",
      "[(1, 'a'), (2, 'b'), (3, 'c')]\n",
      "{(3, 'c'), (1, 'a'), (2, 'b')}\n",
      "{1: 'a', 2: 'b', 3: 'c'}\n"
     ]
    }
   ],
   "source": [
    "l1 = [1,2,3]\n",
    "l2 = ['a','b','c']\n",
    "z1 = zip(l1,l2) # zip 2 lists\n",
    "for a,b in z1:\n",
    "    print(a,b)\n",
    "l3 = list(zip(l1,l2))\n",
    "s1 = set(zip(l1,l2))\n",
    "d1 = dict(zip(l1,l2))\n",
    "print(l3)\n",
    "print(s1)\n",
    "print(d1)\n"
   ]
  },
  {
   "cell_type": "code",
   "execution_count": null,
   "metadata": {},
   "outputs": [],
   "source": []
  }
 ],
 "metadata": {
  "kernelspec": {
   "display_name": "Python 3",
   "language": "python",
   "name": "python3"
  },
  "language_info": {
   "codemirror_mode": {
    "name": "ipython",
    "version": 3
   },
   "file_extension": ".py",
   "mimetype": "text/x-python",
   "name": "python",
   "nbconvert_exporter": "python",
   "pygments_lexer": "ipython3",
   "version": "3.7.1"
  }
 },
 "nbformat": 4,
 "nbformat_minor": 2
}
