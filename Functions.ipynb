{
 "cells": [
  {
   "cell_type": "code",
   "execution_count": 1,
   "metadata": {},
   "outputs": [
    {
     "name": "stdout",
     "output_type": "stream",
     "text": [
      "27.0\n"
     ]
    }
   ],
   "source": [
    "import math\n",
    "def x(a):\n",
    "    return math.pow(a,3)\n",
    "print(x(3))"
   ]
  },
  {
   "cell_type": "code",
   "execution_count": 2,
   "metadata": {},
   "outputs": [
    {
     "name": "stdout",
     "output_type": "stream",
     "text": [
      "9\n"
     ]
    }
   ],
   "source": [
    "# lambda function\n",
    "x = lambda a,b: math.pow(a,b)\n",
    "print(int(x(3,2)))"
   ]
  },
  {
   "cell_type": "code",
   "execution_count": 12,
   "metadata": {},
   "outputs": [
    {
     "name": "stdout",
     "output_type": "stream",
     "text": [
      "[1, 2, 3, 4, 5, 6, 7, 8, 9, 10, 11]\n",
      "[2, 4, 6, 8, 10]\n"
     ]
    }
   ],
   "source": [
    "# filter function with lambda function\n",
    "l  = list()\n",
    "for i in range(0,11):\n",
    "    l.append(i+1)\n",
    "fl = list(filter(lambda n:n%2==0,l))\n",
    "print(l)\n",
    "print(fl)"
   ]
  },
  {
   "cell_type": "code",
   "execution_count": 16,
   "metadata": {},
   "outputs": [
    {
     "data": {
      "text/plain": [
       "[4, 8, 12, 16, 20]"
      ]
     },
     "execution_count": 16,
     "metadata": {},
     "output_type": "execute_result"
    }
   ],
   "source": [
    "# map function with lambda function\n",
    "ml = list(map(lambda n:n*2,fl))\n",
    "ml"
   ]
  },
  {
   "cell_type": "code",
   "execution_count": 19,
   "metadata": {},
   "outputs": [
    {
     "name": "stdout",
     "output_type": "stream",
     "text": [
      "60\n"
     ]
    }
   ],
   "source": [
    "# reduce function with lambda function\n",
    "from functools import reduce\n",
    "sum = reduce(lambda a,b:a+b,ml)\n",
    "print(sum)"
   ]
  },
  {
   "cell_type": "code",
   "execution_count": 25,
   "metadata": {},
   "outputs": [
    {
     "name": "stdout",
     "output_type": "stream",
     "text": [
      "[1, 2, 3, 4, 5, 6, 7, 8, 9, 10, 11]\n",
      "[2, 4, 6, 8, 10]\n"
     ]
    }
   ],
   "source": [
    "# filter function with defined function\n",
    "l  = list()\n",
    "for i in range(0,11):\n",
    "    l.append(i+1)\n",
    "def f(v):\n",
    "    return v%2==0\n",
    "fl = list(filter(f,l))\n",
    "print(l)\n",
    "print(fl)"
   ]
  },
  {
   "cell_type": "code",
   "execution_count": 26,
   "metadata": {},
   "outputs": [
    {
     "data": {
      "text/plain": [
       "[4, 8, 12, 16, 20]"
      ]
     },
     "execution_count": 26,
     "metadata": {},
     "output_type": "execute_result"
    }
   ],
   "source": [
    "# map function with defined function\n",
    "def f1(v):\n",
    "    return v*2\n",
    "ml = list(map(f1,fl))\n",
    "ml"
   ]
  },
  {
   "cell_type": "code",
   "execution_count": 27,
   "metadata": {},
   "outputs": [
    {
     "name": "stdout",
     "output_type": "stream",
     "text": [
      "60\n"
     ]
    }
   ],
   "source": [
    "# reduce function with defined function\n",
    "def f2(a,b):\n",
    "    return a+b\n",
    "sum =  reduce(f2,ml)\n",
    "print(sum)"
   ]
  },
  {
   "cell_type": "code",
   "execution_count": 3,
   "metadata": {},
   "outputs": [
    {
     "name": "stdout",
     "output_type": "stream",
     "text": [
      "140720566416496\n",
      "140720566416816 Changed as int is immutable, if it would have been list then both inside and outside fn           would have changed have a look in next example\n",
      "\n",
      "140720566416496 1,3 same because value is 10 only, so just reference created\n",
      "783038794120 [1, 2, 3] Outside\n",
      "783038794120 [1, 2, 3] Inside\n",
      "783038794120 [1, 5, 3] Inside\n",
      "783038794120 [1, 5, 3] Outside\n"
     ]
    }
   ],
   "source": [
    "# Functions\n",
    "# 1. pass by id concept\n",
    "def a(x):\n",
    "    print(id(x))\n",
    "    x = 20\n",
    "    print(id(x),\"Changed as int is immutable, if it would have been list then both inside and outside fn \\\n",
    "          would have changed have a look in next example\\n\")\n",
    "\n",
    "y=10\n",
    "a(y)\n",
    "print(id(y), \"1,3 same because value is 10 only, so just reference created\")\n",
    "\n",
    "def a(lst):\n",
    "    print(id(lst),lst,\"Inside\")\n",
    "    lst[1] = 5\n",
    "    print(id(lst),lst,\"Inside\")\n",
    "l = [1,2,3]\n",
    "print(id(l),l,\"Outside\")\n",
    "a(l)\n",
    "print(id(l),l,\"Outside\")"
   ]
  },
  {
   "cell_type": "code",
   "execution_count": 4,
   "metadata": {},
   "outputs": [
    {
     "name": "stdout",
     "output_type": "stream",
     "text": [
      "140720566416496 global a 10\n",
      "140720566417776 local a 50\n",
      "140720566417136 local a, after value changed 30\n",
      "10  Getting global and local in same funtion\n"
     ]
    }
   ],
   "source": [
    "# Function Scope\n",
    "a = 10 # global\n",
    "b = 20 # global\n",
    "\n",
    "def x():\n",
    "    a = 50\n",
    "    print(id(a),\"local a\",a)\n",
    "    a= 30\n",
    "    print(id(a),\"local a, after value changed\",a)\n",
    "    print(globals()['a'],\" Getting global and local in same funtion\")   # globals is a dictionary\n",
    "    global b  # other way to get it, but now you can't define local b\n",
    "    \n",
    "\n",
    "print(id(a),\"global a\",a)\n",
    "x()"
   ]
  },
  {
   "cell_type": "code",
   "execution_count": 5,
   "metadata": {},
   "outputs": [
    {
     "name": "stdout",
     "output_type": "stream",
     "text": [
      "6 :add with 3 vars\n",
      "10 :add with 4 vars\n",
      "Other way, to get passed argu info as well\n",
      "With one argument\n",
      "age 10\n",
      "With two argument\n",
      "age 6\n",
      "name Vishal\n"
     ]
    }
   ],
   "source": [
    "# variable arguments functions\n",
    "def sum(*b): # *b is tuple\n",
    "    c = 0\n",
    "    for i in b:\n",
    "        c+=i\n",
    "    return c\n",
    "print(sum(1,2,3),\":add with 3 vars\")\n",
    "print(sum(1,2,3,4),\":add with 4 vars\")\n",
    "\n",
    "print(\"Other way, to get passed argu info as well\")\n",
    "def person(**b):   #now it will take as dict\n",
    "    for i,j in b.items():\n",
    "        print(i,j)\n",
    "print(\"With one argument\")\n",
    "person(age=10)\n",
    "print(\"With two argument\")\n",
    "person(age=6,name=\"Vishal\")"
   ]
  },
  {
   "cell_type": "code",
   "execution_count": 7,
   "metadata": {},
   "outputs": [
    {
     "name": "stdout",
     "output_type": "stream",
     "text": [
      "3000\n",
      "3000\n"
     ]
    }
   ],
   "source": [
    "# recursion limit ...come into picture if looping bcoz of recursion\n",
    "import sys\n",
    "print(sys.getrecursionlimit())\n",
    "sys.setrecursionlimt = 1000\n",
    "print(sys.getrecursionlimit())"
   ]
  },
  {
   "cell_type": "code",
   "execution_count": 9,
   "metadata": {},
   "outputs": [
    {
     "name": "stdout",
     "output_type": "stream",
     "text": [
      "2\n",
      "-2\n",
      "2\n",
      "2\n"
     ]
    }
   ],
   "source": [
    "# decoraters\n",
    "'''\n",
    "A decorator is a design pattern in Python that allows a user to add new functionality to an existing object \n",
    "without modifying its structure. \n",
    "Decorators are usually called before the definition of a function you want to decorate\n",
    "'''\n",
    "def decorate(f):  # take a function as argument\n",
    "    def inner(a,b):  # same as fn for which we need a decorater.. here itis sub\n",
    "        if a<b:\n",
    "            a,b=b,a\n",
    "        return f(a,b)   # calling sub(a,b)\n",
    "    return inner\n",
    "def sub(x,y):\n",
    "    return x-y\n",
    "print(sub(4,2))\n",
    "print(sub(2,4)) # we always want to subtract big from small... one way is add if in function\n",
    "                # but we don't want to change functaniolty of the existing fn, so we add a decorater\n",
    "sub = decorate(sub) # decorate will take a function i.e. for which we want to decorate\n",
    "print(sub(2,4)) # a,b swapped # here sub is object.... 2,4 passed to inner\n",
    "print(sub(4,2))"
   ]
  },
  {
   "cell_type": "code",
   "execution_count": 5,
   "metadata": {},
   "outputs": [
    {
     "name": "stdout",
     "output_type": "stream",
     "text": [
      "5\n"
     ]
    }
   ],
   "source": [
    "# modules\n",
    "import sys\n",
    "sys.path.append('.')\n",
    "from calc import add\n",
    "print(add(2,3))"
   ]
  },
  {
   "cell_type": "code",
   "execution_count": 14,
   "metadata": {},
   "outputs": [
    {
     "name": "stdout",
     "output_type": "stream",
     "text": [
      "__main__\n"
     ]
    }
   ],
   "source": [
    "# __name__\n",
    "import sys\n",
    "sys.path.append('.')\n",
    "import calc  # for modules that are imporeted for those print(__name__) will be module name only\n",
    "print(__name__)  # the main file from where we are calling the output is __main__"
   ]
  },
  {
   "cell_type": "code",
   "execution_count": null,
   "metadata": {},
   "outputs": [],
   "source": []
  }
 ],
 "metadata": {
  "kernelspec": {
   "display_name": "Python 3",
   "language": "python",
   "name": "python3"
  },
  "language_info": {
   "codemirror_mode": {
    "name": "ipython",
    "version": 3
   },
   "file_extension": ".py",
   "mimetype": "text/x-python",
   "name": "python",
   "nbconvert_exporter": "python",
   "pygments_lexer": "ipython3",
   "version": "3.7.1"
  }
 },
 "nbformat": 4,
 "nbformat_minor": 2
}
